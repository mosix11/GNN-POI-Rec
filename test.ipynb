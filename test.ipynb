{
 "cells": [
  {
   "cell_type": "code",
   "execution_count": 1,
   "metadata": {},
   "outputs": [
    {
     "name": "stdout",
     "output_type": "stream",
     "text": [
      "Dataset already downloaded!\n",
      "Dataset already extracted!\n",
      "Dateset statistics before filtering:\n",
      "Number of users: 1083, with min = 100, max = 2693, and avg: 209.76731301939057\n",
      "Number of venues: 38333, with min = 1, max = 1145, and avg: 5.926434142905591\n",
      "Number of venue categories: 400\n",
      "Dateset statistics after filtering:\n",
      "Number of users: 1081, with min = 20, max = 2511, and avg: 136.6096207215541\n",
      "Number of venues: 5128, with min = 10, max = 1145, and avg: 28.797776911076443\n",
      "Number of venue categories: 320\n",
      "Spatial graph sparsity: 0.9934740076810561\n",
      "Temporal graph sparsity: 0.9182665190772997\n"
     ]
    }
   ],
   "source": [
    "from src.dataset import FoursquareNYC\n",
    "\n",
    "ds = FoursquareNYC(batch_size=8, num_workers=1)\n",
    "ds.prepare_data()\n"
   ]
  },
  {
   "cell_type": "code",
   "execution_count": 7,
   "metadata": {},
   "outputs": [
    {
     "ename": "TypeError",
     "evalue": "unsqueeze() takes 1 positional argument but 2 were given",
     "output_type": "error",
     "traceback": [
      "\u001b[0;31m---------------------------------------------------------------------------\u001b[0m",
      "\u001b[0;31mTypeError\u001b[0m                                 Traceback (most recent call last)",
      "Cell \u001b[0;32mIn[7], line 15\u001b[0m\n\u001b[1;32m     13\u001b[0m user_ids \u001b[38;5;241m=\u001b[39m x[\u001b[38;5;241m0\u001b[39m]\n\u001b[1;32m     14\u001b[0m pois \u001b[38;5;241m=\u001b[39m x[\u001b[38;5;241m1\u001b[39m]\n\u001b[0;32m---> 15\u001b[0m \u001b[38;5;28mprint\u001b[39m(\u001b[43muser_ids\u001b[49m\u001b[38;5;241;43m.\u001b[39;49m\u001b[43munsqueeze\u001b[49m\u001b[43m(\u001b[49m\u001b[38;5;241;43m1\u001b[39;49m\u001b[43m,\u001b[49m\u001b[43m \u001b[49m\u001b[38;5;241;43m2\u001b[39;49m\u001b[43m)\u001b[49m\u001b[38;5;241m.\u001b[39mrepeat(\u001b[38;5;241m1\u001b[39m, pois\u001b[38;5;241m.\u001b[39msize(\u001b[38;5;241m1\u001b[39m))\u001b[38;5;241m.\u001b[39mshape)\n\u001b[1;32m     16\u001b[0m \u001b[38;5;28mprint\u001b[39m(pois\u001b[38;5;241m.\u001b[39mshape)\n\u001b[1;32m     17\u001b[0m \u001b[38;5;66;03m# print(lens)\u001b[39;00m\n\u001b[1;32m     18\u001b[0m \u001b[38;5;66;03m# print(x[1].shape)\u001b[39;00m\n\u001b[1;32m     19\u001b[0m \u001b[38;5;66;03m# print(next(iter(dl_test)))\u001b[39;00m\n\u001b[0;32m   (...)\u001b[0m\n\u001b[1;32m     28\u001b[0m \n\u001b[1;32m     29\u001b[0m \u001b[38;5;66;03m# ds.plot_distribution(lengths)\u001b[39;00m\n",
      "\u001b[0;31mTypeError\u001b[0m: unsqueeze() takes 1 positional argument but 2 were given"
     ]
    }
   ],
   "source": [
    "import ipywidgets as widgets\n",
    "import numpy as np\n",
    "from IPython.display import display\n",
    "widget = widgets.Output()\n",
    "# with widget:\n",
    "#     display(ds.poi_trajectories)\n",
    "# print(ds.user_train_trajectories.iloc[400])\n",
    "ds.setup(stage='fit')\n",
    "ds.setup(stage='test')\n",
    "dl_train = ds.train_dataloader()\n",
    "dl_test = ds.test_dataloader()\n",
    "x, y, lens = next(iter(dl_train)) \n",
    "user_ids = x[0]\n",
    "pois = x[1]\n",
    "print(user_ids.unsqueeze((1,2)).repeat(1, pois.size(1)).shape)\n",
    "print(pois.shape)\n",
    "# print(lens)\n",
    "# print(x[1].shape)\n",
    "# print(next(iter(dl_test)))\n",
    "# for batch in dl_test:\n",
    "#     pass\n",
    "\n",
    "# display(widget)\n",
    "\n",
    "# lengths1 = np.array(ds.user_train_trajectories['Time Slot'].apply(len))\n",
    "# lengths2 = np.array(ds.user_train_trajectories['Venue ID'].apply(len))\n",
    "# lengths3 = np.array(ds.user_train_trajectories['Geohash ID'].apply(len))\n",
    "\n",
    "# ds.plot_distribution(lengths)\n"
   ]
  }
 ],
 "metadata": {
  "kernelspec": {
   "display_name": "dlpenv",
   "language": "python",
   "name": "python3"
  },
  "language_info": {
   "codemirror_mode": {
    "name": "ipython",
    "version": 3
   },
   "file_extension": ".py",
   "mimetype": "text/x-python",
   "name": "python",
   "nbconvert_exporter": "python",
   "pygments_lexer": "ipython3",
   "version": "3.10.12"
  }
 },
 "nbformat": 4,
 "nbformat_minor": 2
}
