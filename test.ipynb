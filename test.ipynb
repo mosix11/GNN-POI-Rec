{
 "cells": [
  {
   "cell_type": "code",
   "execution_count": 1,
   "metadata": {},
   "outputs": [
    {
     "name": "stdout",
     "output_type": "stream",
     "text": [
      "Dataset already downloaded!\n",
      "Dataset already extracted!\n",
      "Dateset statistics before filtering:\n",
      "Number of users: 1083, with min = 100, max = 2693, and avg: 209.76731301939057\n",
      "Number of venues: 38333, with min = 1, max = 1145, and avg: 5.926434142905591\n",
      "Number of venue categories: 400\n",
      "Dateset statistics after filtering:\n",
      "Number of users: 1081, with min = 20, max = 2511, and avg: 136.6096207215541\n",
      "Number of venues: 5128, with min = 10, max = 1145, and avg: 28.797776911076443\n",
      "Number of venue categories: 320\n",
      "Spatial graph sparsity: 0.9934740076810561\n",
      "Temporal graph sparsity: 0.9937413448175992\n"
     ]
    }
   ],
   "source": [
    "from src.dataset import FoursquareNYC\n",
    "\n",
    "ds = FoursquareNYC()\n",
    "ds.prepare_data()\n"
   ]
  },
  {
   "cell_type": "code",
   "execution_count": 5,
   "metadata": {},
   "outputs": [
    {
     "data": {
      "application/vnd.jupyter.widget-view+json": {
       "model_id": "f0b1f8ebad8e44df91b35f460f629a6e",
       "version_major": 2,
       "version_minor": 0
      },
      "text/plain": [
       "Output()"
      ]
     },
     "metadata": {},
     "output_type": "display_data"
    },
    {
     "name": "stdout",
     "output_type": "stream",
     "text": [
      "5128\n",
      "1\n",
      "2\n",
      "3\n",
      "4\n",
      "5\n",
      "6\n"
     ]
    }
   ],
   "source": [
    "import ipywidgets as widgets\n",
    "from IPython.display import display\n",
    "widget = widgets.Output()\n",
    "with widget:\n",
    "    display(ds.poi_trajectories)\n",
    "\n",
    "display(widget)\n",
    "i = 0\n",
    "num_venues = len(ds.poi_trajectories['Venue ID'])\n",
    "print(num_venues)\n",
    "# print(ds.temporal_graph.sizes(), ds.spatial_graph.sizes())\n",
    "\n",
    "# lengths = ds.poi_trajectories['Time Slot'].apply(len)\n",
    "# min_length = lengths.min()\n",
    "# max_length = lengths.max()\n",
    "# average_length = lengths.mean()\n",
    "\n",
    "# print(f\"Minimum length: {min_length}\")\n",
    "# print(f\"Maximum length: {max_length}\")\n",
    "# print(f\"Average length: {average_length}\")\n",
    "\n",
    "# for idx, row in ds.poi_trajectories.iterrows():\n",
    "    \n",
    "#     print(idx, row['Venue ID'])\n",
    "#     i += 1\n",
    "#     if i == 4: break\n",
    "# time_slot_sets = [list(row['Time Slot']) for idx, row in ds.poi_trajectories.iterrows()]\n",
    "# print(time_slot_sets[:5])\n"
   ]
  }
 ],
 "metadata": {
  "kernelspec": {
   "display_name": "dlpenv",
   "language": "python",
   "name": "python3"
  },
  "language_info": {
   "codemirror_mode": {
    "name": "ipython",
    "version": 3
   },
   "file_extension": ".py",
   "mimetype": "text/x-python",
   "name": "python",
   "nbconvert_exporter": "python",
   "pygments_lexer": "ipython3",
   "version": "3.10.12"
  }
 },
 "nbformat": 4,
 "nbformat_minor": 2
}
