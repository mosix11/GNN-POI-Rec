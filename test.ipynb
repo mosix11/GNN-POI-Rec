{
 "cells": [
  {
   "cell_type": "code",
   "execution_count": 1,
   "metadata": {},
   "outputs": [
    {
     "name": "stdout",
     "output_type": "stream",
     "text": [
      "Dataset already downloaded!\n",
      "Dataset already extracted!\n",
      "Dateset statistics before filtering:\n",
      "Number of users: 1083, with min = 100, max = 2693, and avg: 209.76731301939057\n",
      "Number of venues: 38333, with min = 1, max = 1145, and avg: 5.926434142905591\n",
      "Number of venue categories: 400\n",
      "Dateset statistics after filtering:\n",
      "Number of users: 1081, with min = 20, max = 2511, and avg: 136.6096207215541\n",
      "Number of venues: 5128, with min = 10, max = 1145, and avg: 28.797776911076443\n",
      "Number of venue categories: 320\n",
      "Spatial graph sparsity: 0.9934740076810561\n",
      "Temporal graph sparsity: 0.9182665190772997\n"
     ]
    }
   ],
   "source": [
    "from src.dataset import FoursquareNYC\n",
    "\n",
    "ds = FoursquareNYC(batch_size=8)\n",
    "ds.prepare_data()\n"
   ]
  },
  {
   "cell_type": "code",
   "execution_count": 3,
   "metadata": {},
   "outputs": [
    {
     "name": "stdout",
     "output_type": "stream",
     "text": [
      "[tensor([1, 2, 3, 4, 5, 6, 7, 8]), tensor([[  9,  13,  29,  26,  33,   9],\n",
      "        [ 50,  44,  44,  74,  35,  45],\n",
      "        [ 89,   9, 100,  85, 106, 115],\n",
      "        [116, 116, 118, 118, 116, 116],\n",
      "        [144, 148, 144, 144, 142, 144],\n",
      "        [198, 162, 157, 194, 193, 167],\n",
      "        [204, 210, 212, 210, 210, 202],\n",
      "        [245, 239, 237, 239,   9, 237]])]\n"
     ]
    }
   ],
   "source": [
    "import ipywidgets as widgets\n",
    "import numpy as np\n",
    "from IPython.display import display\n",
    "widget = widgets.Output()\n",
    "# with widget:\n",
    "#     display(ds.poi_trajectories)\n",
    "# print(ds.user_train_trajectories.iloc[400])\n",
    "ds.setup(stage='fit')\n",
    "ds.setup(stage='test')\n",
    "dl_train = ds.train_dataloader()\n",
    "dl_test = ds.test_dataloader()\n",
    "# x, y, lens = next(iter(dl_train)) \n",
    "# print(lens)\n",
    "# print(x[1].shape)\n",
    "print(next(iter(dl_test)))\n",
    "\n",
    "# display(widget)\n",
    "\n",
    "# lengths1 = np.array(ds.user_train_trajectories['Time Slot'].apply(len))\n",
    "# lengths2 = np.array(ds.user_train_trajectories['Venue ID'].apply(len))\n",
    "# lengths3 = np.array(ds.user_train_trajectories['Geohash ID'].apply(len))\n",
    "\n",
    "# ds.plot_distribution(lengths)\n"
   ]
  }
 ],
 "metadata": {
  "kernelspec": {
   "display_name": "dlpenv",
   "language": "python",
   "name": "python3"
  },
  "language_info": {
   "codemirror_mode": {
    "name": "ipython",
    "version": 3
   },
   "file_extension": ".py",
   "mimetype": "text/x-python",
   "name": "python",
   "nbconvert_exporter": "python",
   "pygments_lexer": "ipython3",
   "version": "3.10.12"
  }
 },
 "nbformat": 4,
 "nbformat_minor": 2
}
